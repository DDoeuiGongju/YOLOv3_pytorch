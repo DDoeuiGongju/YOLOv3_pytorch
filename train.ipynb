{
 "cells": [
  {
   "cell_type": "code",
   "execution_count": 49,
   "metadata": {},
   "outputs": [],
   "source": [
    "import easydict\n",
    "import os\n",
    "import time\n",
    "\n",
    "import torch\n",
    "import torch.utils.data\n",
    "import torch.utils.tensorboard\n",
    "import torch.nn as nn\n",
    "#import tqdm\n",
    "\n",
    "# ipynb파일을 import할 수 있게 해주는 모듈\n",
    "# pip install import_ipynb\n",
    "import import_ipynb\n",
    "import YOLOv3"
   ]
  },
  {
   "cell_type": "code",
   "execution_count": 47,
   "metadata": {},
   "outputs": [],
   "source": [
    "def parse_data_config(path: str):\n",
    "    print(path)\n",
    "    \"\"\"데이터셋 설정 파일 분석\"\"\"\n",
    "    options = {}\n",
    "    with open(path, 'r') as f:\n",
    "        lines = f.readlines()\n",
    "    for line in lines:\n",
    "        line = line.strip()\n",
    "        key, value = line.split('=')\n",
    "        options[key.strip()] = value.strip()\n",
    "    return options\n",
    "\n",
    "def load_classes(path: str):\n",
    "    print(path)\n",
    "    \"\"\"클래스 이름 로드\"\"\"\n",
    "    with open(path, \"r\") as f:\n",
    "        names = f.readlines()\n",
    "    for i, name in enumerate(names):\n",
    "        names[i] = name.strip()\n",
    "    return names\n",
    "\n",
    "def init_weights_normal(m):\n",
    "    \"\"\"정규분포 형태로 가중치 초기화\"\"\"\n",
    "    classname = m.__class__.__name__\n",
    "    # https://discuss.pytorch.org/t/object-has-no-attribute-weight/31526\n",
    "    # if classname.find(\"Conv\") != -1:\n",
    "    if type(m) == nn.Conv2d:\n",
    "        torch.nn.init.kaiming_normal_(m.weight.data, 0.1)\n",
    "\n",
    "    elif classname.find(\"BatchNorm2d\") != -1:\n",
    "        torch.nn.init.normal_(m.weight.data, 1.0, 0.02)\n",
    "        torch.nn.init.constant_(m.bias.data, 0.0)\n"
   ]
  },
  {
   "cell_type": "code",
   "execution_count": 51,
   "metadata": {},
   "outputs": [
    {
     "name": "stdout",
     "output_type": "stream",
     "text": [
      "{'epoch': 20, 'gradient_accumulation': 1, 'multiscale_training': True, 'batch_size': 32, 'num_workers': 8, 'data_config': 'config/coco.data', 'pretrained_weights': 'weights/darknet53.conv.74', 'image_size': 416}\n",
      "config/coco.data\n",
      "data/coco/coco_classes.txt\n"
     ]
    },
    {
     "ename": "ModuleAttributeError",
     "evalue": "'YOLOv3' object has no attribute 'load_darknet_weights'",
     "output_type": "error",
     "traceback": [
      "\u001b[1;31m---------------------------------------------------------------------------\u001b[0m",
      "\u001b[1;31mModuleAttributeError\u001b[0m                      Traceback (most recent call last)",
      "\u001b[1;32m<ipython-input-51-cae80826527d>\u001b[0m in \u001b[0;36m<module>\u001b[1;34m\u001b[0m\n\u001b[0;32m     36\u001b[0m     \u001b[0mmodel\u001b[0m\u001b[1;33m.\u001b[0m\u001b[0mload_state_dict\u001b[0m\u001b[1;33m(\u001b[0m\u001b[0mtorch\u001b[0m\u001b[1;33m.\u001b[0m\u001b[0mload\u001b[0m\u001b[1;33m(\u001b[0m\u001b[0margs\u001b[0m\u001b[1;33m.\u001b[0m\u001b[0mpretrained_weights\u001b[0m\u001b[1;33m)\u001b[0m\u001b[1;33m)\u001b[0m\u001b[1;33m\u001b[0m\u001b[1;33m\u001b[0m\u001b[0m\n\u001b[0;32m     37\u001b[0m \u001b[1;32melse\u001b[0m\u001b[1;33m:\u001b[0m\u001b[1;33m\u001b[0m\u001b[1;33m\u001b[0m\u001b[0m\n\u001b[1;32m---> 38\u001b[1;33m     \u001b[0mmodel\u001b[0m\u001b[1;33m.\u001b[0m\u001b[0mload_darknet_weights\u001b[0m\u001b[1;33m(\u001b[0m\u001b[0margs\u001b[0m\u001b[1;33m.\u001b[0m\u001b[0mpretrained_weights\u001b[0m\u001b[1;33m)\u001b[0m\u001b[1;33m\u001b[0m\u001b[1;33m\u001b[0m\u001b[0m\n\u001b[0m",
      "\u001b[1;32m~\\.conda\\envs\\pytorch\\lib\\site-packages\\torch\\nn\\modules\\module.py\u001b[0m in \u001b[0;36m__getattr__\u001b[1;34m(self, name)\u001b[0m\n\u001b[0;32m    769\u001b[0m             \u001b[1;32mif\u001b[0m \u001b[0mname\u001b[0m \u001b[1;32min\u001b[0m \u001b[0mmodules\u001b[0m\u001b[1;33m:\u001b[0m\u001b[1;33m\u001b[0m\u001b[1;33m\u001b[0m\u001b[0m\n\u001b[0;32m    770\u001b[0m                 \u001b[1;32mreturn\u001b[0m \u001b[0mmodules\u001b[0m\u001b[1;33m[\u001b[0m\u001b[0mname\u001b[0m\u001b[1;33m]\u001b[0m\u001b[1;33m\u001b[0m\u001b[1;33m\u001b[0m\u001b[0m\n\u001b[1;32m--> 771\u001b[1;33m         raise ModuleAttributeError(\"'{}' object has no attribute '{}'\".format(\n\u001b[0m\u001b[0;32m    772\u001b[0m             type(self).__name__, name))\n\u001b[0;32m    773\u001b[0m \u001b[1;33m\u001b[0m\u001b[0m\n",
      "\u001b[1;31mModuleAttributeError\u001b[0m: 'YOLOv3' object has no attribute 'load_darknet_weights'"
     ]
    }
   ],
   "source": [
    "# 다양한 입력 매개변수를 분석한다. 아니면 기본 매개변수를 사용한다\n",
    "# ipynb에서는 argparse를 사용할 수 없다. easydict로 대체할 쉬 있다. \n",
    "# https://worthpreading.tistory.com/56\n",
    "args = easydict.EasyDict({\n",
    "    \"epoch\": 20,\n",
    "    \"gradient_accumulation\": 1,\n",
    "    \"multiscale_training\": True,\n",
    "    \"batch_size\": 32,\n",
    "    \"num_workers\": 8,\n",
    "    \"data_config\": \"config/coco.data\",\n",
    "    \"pretrained_weights\": 'weights/darknet53.conv.74',\n",
    "    \"image_size\": 416\n",
    "})\n",
    "print(args)\n",
    "\n",
    "device = torch.device('cuda' if torch.cuda.is_available() else 'cpu')\n",
    "now = time.strftime('%y%m%d_%H%M%S', time.localtime(time.time()))\n",
    "\n",
    "# Tensorboard writer 객체 생성\n",
    "log_dir = os.path.join('logs', now)\n",
    "os.makedirs(log_dir, exist_ok=True)\n",
    "writer = torch.utils.tensorboard.SummaryWriter(log_dir)\n",
    "\n",
    "# 데이터셋 설정값을 가져오기\n",
    "data_config = parse_data_config(args.data_config)\n",
    "train_path = data_config['train']\n",
    "valid_path = data_config['valid']\n",
    "num_classes = int(data_config['classes'])\n",
    "class_names = load_classes(data_config['names'])\n",
    "\n",
    "\n",
    "# 모델 준비하기\n",
    "model = YOLOv3.YOLOv3(args.image_size, num_classes).to(device)\n",
    "model.apply(init_weights_normal)\n",
    "if args.pretrained_weights.endswith('.pth'):\n",
    "    model.load_state_dict(torch.load(args.pretrained_weights))\n",
    "else:\n",
    "    model.load_darknet_weights(args.pretrained_weights)\n"
   ]
  }
 ],
 "metadata": {
  "kernelspec": {
   "display_name": "pytorch",
   "language": "python",
   "name": "pytorch"
  },
  "language_info": {
   "codemirror_mode": {
    "name": "ipython",
    "version": 3
   },
   "file_extension": ".py",
   "mimetype": "text/x-python",
   "name": "python",
   "nbconvert_exporter": "python",
   "pygments_lexer": "ipython3",
   "version": "3.8.5"
  }
 },
 "nbformat": 4,
 "nbformat_minor": 4
}
