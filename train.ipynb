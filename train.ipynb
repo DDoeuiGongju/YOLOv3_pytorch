{
 "cells": [
  {
   "cell_type": "code",
   "execution_count": 42,
   "metadata": {},
   "outputs": [],
   "source": [
    "import easydict\n",
    "import os\n",
    "import time\n",
    "\n",
    "import torch\n",
    "import torch.utils.data\n",
    "import torch.utils.tensorboard\n",
    "#import tqdm\n",
    "\n",
    "# ipynb파일을 import할 수 있게 해주는 모듈\n",
    "# pip install import_ipynb\n",
    "import import_ipynb\n",
    "import YOLOv3"
   ]
  },
  {
   "cell_type": "code",
   "execution_count": 41,
   "metadata": {},
   "outputs": [],
   "source": [
    "def parse_data_config(path: str):\n",
    "    print(path)\n",
    "    \"\"\"데이터셋 설정 파일 분석\"\"\"\n",
    "    options = {}\n",
    "    with open(path, 'r') as f:\n",
    "        lines = f.readlines()\n",
    "    for line in lines:\n",
    "        line = line.strip()\n",
    "        key, value = line.split('=')\n",
    "        options[key.strip()] = value.strip()\n",
    "    return options\n",
    "\n",
    "def load_classes(path: str):\n",
    "    print(path)\n",
    "    \"\"\"클래스 이름 로드\"\"\"\n",
    "    with open(path, \"r\") as f:\n",
    "        names = f.readlines()\n",
    "    for i, name in enumerate(names):\n",
    "        names[i] = name.strip()\n",
    "    return names"
   ]
  },
  {
   "cell_type": "code",
   "execution_count": 40,
   "metadata": {},
   "outputs": [
    {
     "name": "stdout",
     "output_type": "stream",
     "text": [
      "{'epoch': 20, 'gradient_accumulation': 1, 'multiscale_training': True, 'batch_size': 32, 'num_workers': 8, 'data_config': 'config/coco.data', 'pretrained_weights': 'weights/darknet53.conv.74', 'image_size': 416}\n",
      "config/coco.data\n",
      "data/coco/coco_classes.txt\n"
     ]
    }
   ],
   "source": [
    "# 다양한 입력 매개변수를 분석한다. 아니면 기본 매개변수를 사용한다\n",
    "# ipynb에서는 argparse를 사용할 수 없다. easydict로 대체할 쉬 있다. \n",
    "# https://worthpreading.tistory.com/56\n",
    "args = easydict.EasyDict({\n",
    "    \"epoch\": 20,\n",
    "    \"gradient_accumulation\": 1,\n",
    "    \"multiscale_training\": True,\n",
    "    \"batch_size\": 32,\n",
    "    \"num_workers\": 8,\n",
    "    \"data_config\": \"config/coco.data\",\n",
    "    \"pretrained_weights\": 'weights/darknet53.conv.74',\n",
    "    \"image_size\": 416\n",
    "})\n",
    "print(args)\n",
    "\n",
    "device = torch.device('cuda' if torch.cuda.is_available() else 'cpu')\n",
    "now = time.strftime('%y%m%d_%H%M%S', time.localtime(time.time()))\n",
    "\n",
    "# Tensorboard writer 객체 생성\n",
    "log_dir = os.path.join('logs', now)\n",
    "os.makedirs(log_dir, exist_ok=True)\n",
    "writer = torch.utils.tensorboard.SummaryWriter(log_dir)\n",
    "\n",
    "# 데이터셋 설정값을 가져오기\n",
    "data_config = parse_data_config(args.data_config)\n",
    "train_path = data_config['train']\n",
    "valid_path = data_config['valid']\n",
    "num_classes = int(data_config['classes'])\n",
    "class_names = load_classes(data_config['names'])\n"
   ]
  }
 ],
 "metadata": {
  "kernelspec": {
   "display_name": "pytorch",
   "language": "python",
   "name": "pytorch"
  },
  "language_info": {
   "codemirror_mode": {
    "name": "ipython",
    "version": 3
   },
   "file_extension": ".py",
   "mimetype": "text/x-python",
   "name": "python",
   "nbconvert_exporter": "python",
   "pygments_lexer": "ipython3",
   "version": "3.8.5"
  }
 },
 "nbformat": 4,
 "nbformat_minor": 4
}
